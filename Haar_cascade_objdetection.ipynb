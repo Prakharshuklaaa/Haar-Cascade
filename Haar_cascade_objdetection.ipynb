{
  "nbformat": 4,
  "nbformat_minor": 0,
  "metadata": {
    "colab": {
      "provenance": [],
      "authorship_tag": "ABX9TyNR9VvlJQY6eDLgRMus1JRJ",
      "include_colab_link": true
    },
    "kernelspec": {
      "name": "python3",
      "display_name": "Python 3"
    },
    "language_info": {
      "name": "python"
    }
  },
  "cells": [
    {
      "cell_type": "markdown",
      "metadata": {
        "id": "view-in-github",
        "colab_type": "text"
      },
      "source": [
        "<a href=\"https://colab.research.google.com/github/Prakharshuklaaa/Haar-cascade/blob/main/Haar_cascade_objdetection.ipynb\" target=\"_parent\"><img src=\"https://colab.research.google.com/assets/colab-badge.svg\" alt=\"Open In Colab\"/></a>"
      ]
    },
    {
      "cell_type": "markdown",
      "source": [],
      "metadata": {
        "id": "rFaJke9tT-Da"
      }
    },
    {
      "cell_type": "markdown",
      "source": [],
      "metadata": {
        "id": "Ca7J0_KjT90j"
      }
    },
    {
      "cell_type": "code",
      "execution_count": null,
      "metadata": {
        "colab": {
          "base_uri": "https://localhost:8080/"
        },
        "id": "vBiJGDqnKLlZ",
        "outputId": "cc145f65-de5d-4e87-80e3-9749a4fe331b"
      },
      "outputs": [
        {
          "output_type": "execute_result",
          "data": {
            "text/plain": [
              "False"
            ]
          },
          "metadata": {},
          "execution_count": 10
        }
      ],
      "source": [
        "import cv2 \n",
        "# Enable we\n",
        "# '0' is default ID for builtin web cam\n",
        "# for external web cam ID can be 1 or -1\n",
        "imcap = cv2.VideoCapture(0)\n",
        "imcap.set(3, 640) # set width as 640\n",
        "imcap.set(4, 480) # set height as 480"
      ]
    },
    {
      "cell_type": "code",
      "source": [
        "# importing cascade\n",
        "faceCascade = cv2.CascadeClassifier(cv2.data.haarcascades + \"haarcascade_frontalface_default.xml\")"
      ],
      "metadata": {
        "id": "sB6rK241KuWz"
      },
      "execution_count": null,
      "outputs": []
    },
    {
      "cell_type": "code",
      "source": [
        "while True:\n",
        "    success, img = imcap.read() # capture frame from video\n",
        "    # converting image from color to grayscale \n",
        "    imgGray = cv2.cvtColor(img, cv2.COLOR_BGR2GRAY)\n",
        "\n",
        "    # Getting corners around the face\n",
        "    # 1.3 = scale factor, 5 = minimum neighbor can be detected\n",
        "    faces = faceCascade.detectMultiScale(imgGray, 1.3, 5)  \n",
        "\n",
        "    # drawing bounding box around face\n",
        "    for (x, y, w, h) in faces:\n",
        "        img = cv2.rectangle(img, (x, y), (x + w, y + h), (0, 255,   0), 3)\n",
        "    # displaying image with bounding box\n",
        "    cv2.imshow('face_detect', img)\n",
        "    # loop will be broken when 'q' is pressed on the keyboard\n",
        "    if cv2.waitKey(10) & 0xFF == ord('q'):\n",
        "        break\n"
      ],
      "metadata": {
        "id": "tQPlgFnDK2uD"
      },
      "execution_count": null,
      "outputs": []
    },
    {
      "cell_type": "code",
      "source": [
        "cap.release()\n",
        "cv2.destroyWindow('face_detect')"
      ],
      "metadata": {
        "id": "OSZAjwatK66G"
      },
      "execution_count": null,
      "outputs": []
    }
  ]
}